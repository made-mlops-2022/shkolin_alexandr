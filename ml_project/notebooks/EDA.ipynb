{
  "nbformat": 4,
  "nbformat_minor": 0,
  "metadata": {
    "colab": {
      "provenance": [],
      "collapsed_sections": []
    },
    "kernelspec": {
      "name": "python3",
      "display_name": "Python 3"
    },
    "language_info": {
      "name": "python"
    }
  },
  "cells": [
    {
      "cell_type": "code",
      "source": [
        "import gdown\n",
        "\n",
        "url = \"https://drive.google.com/drive/folders/13BToI5XE-dFtgOyGsZ-SLx91J_GGmMFE?usp=share_link\"\n",
        "folder_name = \"datasets\"\n",
        "gdown.download_folder(url, output=folder_name)\n",
        "\n",
        "train_path = \"/content/datasets/train.csv\""
      ],
      "metadata": {
        "id": "O8XUeYuOYsAC"
      },
      "execution_count": null,
      "outputs": []
    },
    {
      "cell_type": "code",
      "source": [
        "import pandas as pd\n",
        "import numpy as np\n",
        "import matplotlib.pyplot as plt"
      ],
      "metadata": {
        "id": "Jz2CidXZn1xA"
      },
      "execution_count": 3,
      "outputs": []
    },
    {
      "cell_type": "markdown",
      "source": [
        "# Обработаем данные"
      ],
      "metadata": {
        "id": "FG5Usyj8NA4R"
      }
    },
    {
      "cell_type": "code",
      "source": [
        "train = pd.read_csv(train_path)"
      ],
      "metadata": {
        "id": "nptXUphbiF2E"
      },
      "execution_count": 10,
      "outputs": []
    },
    {
      "cell_type": "code",
      "source": [
        "print(f'Train set shape : {train.shape}')\n",
        "train.head(2)"
      ],
      "metadata": {
        "colab": {
          "base_uri": "https://localhost:8080/",
          "height": 257
        },
        "id": "u13r6s2VoLkY",
        "outputId": "5d852ebc-7205-477a-d111-b9e31b9a358c"
      },
      "execution_count": 11,
      "outputs": [
        {
          "output_type": "stream",
          "name": "stdout",
          "text": [
            "Train set shape : (44638, 29)\n"
          ]
        },
        {
          "output_type": "execute_result",
          "data": {
            "text/plain": [
              "          hotel  is_canceled  lead_time  arrival_date_year arrival_date_month  \\\n",
              "0  Resort Hotel            0          3               2016           February   \n",
              "1    City Hotel            1         50               2016           November   \n",
              "\n",
              "   arrival_date_week_number  arrival_date_day_of_month  \\\n",
              "0                         7                         12   \n",
              "1                        47                         18   \n",
              "\n",
              "   stays_in_weekend_nights  stays_in_week_nights  adults  ...  \\\n",
              "0                        0                     2       2  ...   \n",
              "1                        1                     2       2  ...   \n",
              "\n",
              "   reserved_room_type  assigned_room_type booking_changes deposit_type  \\\n",
              "0                   E                   F               0   No Deposit   \n",
              "1                   A                   A               0   No Deposit   \n",
              "\n",
              "  days_in_waiting_list customer_type   adr  required_car_parking_spaces  \\\n",
              "0                    0     Transient  81.0                            1   \n",
              "1                    0     Transient  93.6                            0   \n",
              "\n",
              "   total_of_special_requests reservation_status_date  \n",
              "0                          0              2016-02-14  \n",
              "1                          2              2016-10-09  \n",
              "\n",
              "[2 rows x 29 columns]"
            ],
            "text/html": [
              "\n",
              "  <div id=\"df-7cdf7c04-46af-483d-ae15-9080c2b92f8c\">\n",
              "    <div class=\"colab-df-container\">\n",
              "      <div>\n",
              "<style scoped>\n",
              "    .dataframe tbody tr th:only-of-type {\n",
              "        vertical-align: middle;\n",
              "    }\n",
              "\n",
              "    .dataframe tbody tr th {\n",
              "        vertical-align: top;\n",
              "    }\n",
              "\n",
              "    .dataframe thead th {\n",
              "        text-align: right;\n",
              "    }\n",
              "</style>\n",
              "<table border=\"1\" class=\"dataframe\">\n",
              "  <thead>\n",
              "    <tr style=\"text-align: right;\">\n",
              "      <th></th>\n",
              "      <th>hotel</th>\n",
              "      <th>is_canceled</th>\n",
              "      <th>lead_time</th>\n",
              "      <th>arrival_date_year</th>\n",
              "      <th>arrival_date_month</th>\n",
              "      <th>arrival_date_week_number</th>\n",
              "      <th>arrival_date_day_of_month</th>\n",
              "      <th>stays_in_weekend_nights</th>\n",
              "      <th>stays_in_week_nights</th>\n",
              "      <th>adults</th>\n",
              "      <th>...</th>\n",
              "      <th>reserved_room_type</th>\n",
              "      <th>assigned_room_type</th>\n",
              "      <th>booking_changes</th>\n",
              "      <th>deposit_type</th>\n",
              "      <th>days_in_waiting_list</th>\n",
              "      <th>customer_type</th>\n",
              "      <th>adr</th>\n",
              "      <th>required_car_parking_spaces</th>\n",
              "      <th>total_of_special_requests</th>\n",
              "      <th>reservation_status_date</th>\n",
              "    </tr>\n",
              "  </thead>\n",
              "  <tbody>\n",
              "    <tr>\n",
              "      <th>0</th>\n",
              "      <td>Resort Hotel</td>\n",
              "      <td>0</td>\n",
              "      <td>3</td>\n",
              "      <td>2016</td>\n",
              "      <td>February</td>\n",
              "      <td>7</td>\n",
              "      <td>12</td>\n",
              "      <td>0</td>\n",
              "      <td>2</td>\n",
              "      <td>2</td>\n",
              "      <td>...</td>\n",
              "      <td>E</td>\n",
              "      <td>F</td>\n",
              "      <td>0</td>\n",
              "      <td>No Deposit</td>\n",
              "      <td>0</td>\n",
              "      <td>Transient</td>\n",
              "      <td>81.0</td>\n",
              "      <td>1</td>\n",
              "      <td>0</td>\n",
              "      <td>2016-02-14</td>\n",
              "    </tr>\n",
              "    <tr>\n",
              "      <th>1</th>\n",
              "      <td>City Hotel</td>\n",
              "      <td>1</td>\n",
              "      <td>50</td>\n",
              "      <td>2016</td>\n",
              "      <td>November</td>\n",
              "      <td>47</td>\n",
              "      <td>18</td>\n",
              "      <td>1</td>\n",
              "      <td>2</td>\n",
              "      <td>2</td>\n",
              "      <td>...</td>\n",
              "      <td>A</td>\n",
              "      <td>A</td>\n",
              "      <td>0</td>\n",
              "      <td>No Deposit</td>\n",
              "      <td>0</td>\n",
              "      <td>Transient</td>\n",
              "      <td>93.6</td>\n",
              "      <td>0</td>\n",
              "      <td>2</td>\n",
              "      <td>2016-10-09</td>\n",
              "    </tr>\n",
              "  </tbody>\n",
              "</table>\n",
              "<p>2 rows × 29 columns</p>\n",
              "</div>\n",
              "      <button class=\"colab-df-convert\" onclick=\"convertToInteractive('df-7cdf7c04-46af-483d-ae15-9080c2b92f8c')\"\n",
              "              title=\"Convert this dataframe to an interactive table.\"\n",
              "              style=\"display:none;\">\n",
              "        \n",
              "  <svg xmlns=\"http://www.w3.org/2000/svg\" height=\"24px\"viewBox=\"0 0 24 24\"\n",
              "       width=\"24px\">\n",
              "    <path d=\"M0 0h24v24H0V0z\" fill=\"none\"/>\n",
              "    <path d=\"M18.56 5.44l.94 2.06.94-2.06 2.06-.94-2.06-.94-.94-2.06-.94 2.06-2.06.94zm-11 1L8.5 8.5l.94-2.06 2.06-.94-2.06-.94L8.5 2.5l-.94 2.06-2.06.94zm10 10l.94 2.06.94-2.06 2.06-.94-2.06-.94-.94-2.06-.94 2.06-2.06.94z\"/><path d=\"M17.41 7.96l-1.37-1.37c-.4-.4-.92-.59-1.43-.59-.52 0-1.04.2-1.43.59L10.3 9.45l-7.72 7.72c-.78.78-.78 2.05 0 2.83L4 21.41c.39.39.9.59 1.41.59.51 0 1.02-.2 1.41-.59l7.78-7.78 2.81-2.81c.8-.78.8-2.07 0-2.86zM5.41 20L4 18.59l7.72-7.72 1.47 1.35L5.41 20z\"/>\n",
              "  </svg>\n",
              "      </button>\n",
              "      \n",
              "  <style>\n",
              "    .colab-df-container {\n",
              "      display:flex;\n",
              "      flex-wrap:wrap;\n",
              "      gap: 12px;\n",
              "    }\n",
              "\n",
              "    .colab-df-convert {\n",
              "      background-color: #E8F0FE;\n",
              "      border: none;\n",
              "      border-radius: 50%;\n",
              "      cursor: pointer;\n",
              "      display: none;\n",
              "      fill: #1967D2;\n",
              "      height: 32px;\n",
              "      padding: 0 0 0 0;\n",
              "      width: 32px;\n",
              "    }\n",
              "\n",
              "    .colab-df-convert:hover {\n",
              "      background-color: #E2EBFA;\n",
              "      box-shadow: 0px 1px 2px rgba(60, 64, 67, 0.3), 0px 1px 3px 1px rgba(60, 64, 67, 0.15);\n",
              "      fill: #174EA6;\n",
              "    }\n",
              "\n",
              "    [theme=dark] .colab-df-convert {\n",
              "      background-color: #3B4455;\n",
              "      fill: #D2E3FC;\n",
              "    }\n",
              "\n",
              "    [theme=dark] .colab-df-convert:hover {\n",
              "      background-color: #434B5C;\n",
              "      box-shadow: 0px 1px 3px 1px rgba(0, 0, 0, 0.15);\n",
              "      filter: drop-shadow(0px 1px 2px rgba(0, 0, 0, 0.3));\n",
              "      fill: #FFFFFF;\n",
              "    }\n",
              "  </style>\n",
              "\n",
              "      <script>\n",
              "        const buttonEl =\n",
              "          document.querySelector('#df-7cdf7c04-46af-483d-ae15-9080c2b92f8c button.colab-df-convert');\n",
              "        buttonEl.style.display =\n",
              "          google.colab.kernel.accessAllowed ? 'block' : 'none';\n",
              "\n",
              "        async function convertToInteractive(key) {\n",
              "          const element = document.querySelector('#df-7cdf7c04-46af-483d-ae15-9080c2b92f8c');\n",
              "          const dataTable =\n",
              "            await google.colab.kernel.invokeFunction('convertToInteractive',\n",
              "                                                     [key], {});\n",
              "          if (!dataTable) return;\n",
              "\n",
              "          const docLinkHtml = 'Like what you see? Visit the ' +\n",
              "            '<a target=\"_blank\" href=https://colab.research.google.com/notebooks/data_table.ipynb>data table notebook</a>'\n",
              "            + ' to learn more about interactive tables.';\n",
              "          element.innerHTML = '';\n",
              "          dataTable['output_type'] = 'display_data';\n",
              "          await google.colab.output.renderOutput(dataTable, element);\n",
              "          const docLink = document.createElement('div');\n",
              "          docLink.innerHTML = docLinkHtml;\n",
              "          element.appendChild(docLink);\n",
              "        }\n",
              "      </script>\n",
              "    </div>\n",
              "  </div>\n",
              "  "
            ]
          },
          "metadata": {},
          "execution_count": 11
        }
      ]
    },
    {
      "cell_type": "code",
      "source": [
        "train.isna().sum().sort_values(ascending=False).head()"
      ],
      "metadata": {
        "colab": {
          "base_uri": "https://localhost:8080/"
        },
        "id": "HFVhc-O6wIxs",
        "outputId": "c40079f6-6acb-4eec-e499-b74f1a73e880"
      },
      "execution_count": 12,
      "outputs": [
        {
          "output_type": "execute_result",
          "data": {
            "text/plain": [
              "hotel                          0\n",
              "distribution_channel           0\n",
              "total_of_special_requests      0\n",
              "required_car_parking_spaces    0\n",
              "adr                            0\n",
              "dtype: int64"
            ]
          },
          "metadata": {},
          "execution_count": 12
        }
      ]
    },
    {
      "cell_type": "code",
      "source": [
        "train.info()"
      ],
      "metadata": {
        "colab": {
          "base_uri": "https://localhost:8080/"
        },
        "id": "KECv4r9aogQi",
        "outputId": "fd2b2d53-2f1b-41c8-b8c5-cfd78fa079fa"
      },
      "execution_count": 13,
      "outputs": [
        {
          "output_type": "stream",
          "name": "stdout",
          "text": [
            "<class 'pandas.core.frame.DataFrame'>\n",
            "RangeIndex: 44638 entries, 0 to 44637\n",
            "Data columns (total 29 columns):\n",
            " #   Column                          Non-Null Count  Dtype  \n",
            "---  ------                          --------------  -----  \n",
            " 0   hotel                           44638 non-null  object \n",
            " 1   is_canceled                     44638 non-null  int64  \n",
            " 2   lead_time                       44638 non-null  int64  \n",
            " 3   arrival_date_year               44638 non-null  int64  \n",
            " 4   arrival_date_month              44638 non-null  object \n",
            " 5   arrival_date_week_number        44638 non-null  int64  \n",
            " 6   arrival_date_day_of_month       44638 non-null  int64  \n",
            " 7   stays_in_weekend_nights         44638 non-null  int64  \n",
            " 8   stays_in_week_nights            44638 non-null  int64  \n",
            " 9   adults                          44638 non-null  int64  \n",
            " 10  children                        44638 non-null  float64\n",
            " 11  babies                          44638 non-null  int64  \n",
            " 12  meal                            44638 non-null  object \n",
            " 13  country                         44638 non-null  object \n",
            " 14  market_segment                  44638 non-null  object \n",
            " 15  distribution_channel            44638 non-null  object \n",
            " 16  is_repeated_guest               44638 non-null  int64  \n",
            " 17  previous_cancellations          44638 non-null  int64  \n",
            " 18  previous_bookings_not_canceled  44638 non-null  int64  \n",
            " 19  reserved_room_type              44638 non-null  object \n",
            " 20  assigned_room_type              44638 non-null  object \n",
            " 21  booking_changes                 44638 non-null  int64  \n",
            " 22  deposit_type                    44638 non-null  object \n",
            " 23  days_in_waiting_list            44638 non-null  int64  \n",
            " 24  customer_type                   44638 non-null  object \n",
            " 25  adr                             44638 non-null  float64\n",
            " 26  required_car_parking_spaces     44638 non-null  int64  \n",
            " 27  total_of_special_requests       44638 non-null  int64  \n",
            " 28  reservation_status_date         44638 non-null  object \n",
            "dtypes: float64(2), int64(16), object(11)\n",
            "memory usage: 9.9+ MB\n"
          ]
        }
      ]
    },
    {
      "cell_type": "code",
      "source": [
        "train.describe()"
      ],
      "metadata": {
        "colab": {
          "base_uri": "https://localhost:8080/",
          "height": 364
        },
        "id": "Q_zj-iBYosob",
        "outputId": "a4080f16-e933-4ec9-ba3f-b2e12664929b"
      },
      "execution_count": 15,
      "outputs": [
        {
          "output_type": "execute_result",
          "data": {
            "text/plain": [
              "        is_canceled     lead_time  arrival_date_year  \\\n",
              "count  44638.000000  44638.000000        44638.00000   \n",
              "mean       0.297594     99.395291         2016.15675   \n",
              "std        0.457205    104.485734            0.70504   \n",
              "min        0.000000      0.000000         2015.00000   \n",
              "25%        0.000000     16.000000         2016.00000   \n",
              "50%        0.000000     65.000000         2016.00000   \n",
              "75%        1.000000    154.000000         2017.00000   \n",
              "max        1.000000    737.000000         2017.00000   \n",
              "\n",
              "       arrival_date_week_number  arrival_date_day_of_month  \\\n",
              "count              44638.000000               44638.000000   \n",
              "mean                  27.095166                  15.778328   \n",
              "std                   13.654692                   8.807604   \n",
              "min                    1.000000                   1.000000   \n",
              "25%                   16.000000                   8.000000   \n",
              "50%                   27.000000                  16.000000   \n",
              "75%                   38.000000                  23.000000   \n",
              "max                   53.000000                  31.000000   \n",
              "\n",
              "       stays_in_weekend_nights  stays_in_week_nights        adults  \\\n",
              "count             44638.000000          44638.000000  44638.000000   \n",
              "mean                  0.931516              2.507303      1.852883   \n",
              "std                   1.002021              1.928111      0.578898   \n",
              "min                   0.000000              0.000000      0.000000   \n",
              "25%                   0.000000              1.000000      2.000000   \n",
              "50%                   1.000000              2.000000      2.000000   \n",
              "75%                   2.000000              3.000000      2.000000   \n",
              "max                  16.000000             40.000000     55.000000   \n",
              "\n",
              "           children        babies  is_repeated_guest  previous_cancellations  \\\n",
              "count  44638.000000  44638.000000       44638.000000            44638.000000   \n",
              "mean       0.102424      0.008289           0.034052                0.069672   \n",
              "std        0.393273      0.091649           0.181364                0.726281   \n",
              "min        0.000000      0.000000           0.000000                0.000000   \n",
              "25%        0.000000      0.000000           0.000000                0.000000   \n",
              "50%        0.000000      0.000000           0.000000                0.000000   \n",
              "75%        0.000000      0.000000           0.000000                0.000000   \n",
              "max        3.000000      2.000000           1.000000               26.000000   \n",
              "\n",
              "       previous_bookings_not_canceled  booking_changes  days_in_waiting_list  \\\n",
              "count                    44638.000000     44638.000000          44638.000000   \n",
              "mean                         0.140799         0.238026              2.149133   \n",
              "std                          1.540109         0.682989             17.134385   \n",
              "min                          0.000000         0.000000              0.000000   \n",
              "25%                          0.000000         0.000000              0.000000   \n",
              "50%                          0.000000         0.000000              0.000000   \n",
              "75%                          0.000000         0.000000              0.000000   \n",
              "max                         72.000000        21.000000            391.000000   \n",
              "\n",
              "                adr  required_car_parking_spaces  total_of_special_requests  \n",
              "count  44638.000000                 44638.000000               44638.000000  \n",
              "mean     101.624687                     0.067723                   0.603253  \n",
              "std       48.429930                     0.255077                   0.803659  \n",
              "min        0.000000                     0.000000                   0.000000  \n",
              "25%       69.380000                     0.000000                   0.000000  \n",
              "50%       94.500000                     0.000000                   0.000000  \n",
              "75%      126.000000                     0.000000                   1.000000  \n",
              "max      510.000000                     8.000000                   5.000000  "
            ],
            "text/html": [
              "\n",
              "  <div id=\"df-ae46b50a-f993-4498-a80a-7176a42a5899\">\n",
              "    <div class=\"colab-df-container\">\n",
              "      <div>\n",
              "<style scoped>\n",
              "    .dataframe tbody tr th:only-of-type {\n",
              "        vertical-align: middle;\n",
              "    }\n",
              "\n",
              "    .dataframe tbody tr th {\n",
              "        vertical-align: top;\n",
              "    }\n",
              "\n",
              "    .dataframe thead th {\n",
              "        text-align: right;\n",
              "    }\n",
              "</style>\n",
              "<table border=\"1\" class=\"dataframe\">\n",
              "  <thead>\n",
              "    <tr style=\"text-align: right;\">\n",
              "      <th></th>\n",
              "      <th>is_canceled</th>\n",
              "      <th>lead_time</th>\n",
              "      <th>arrival_date_year</th>\n",
              "      <th>arrival_date_week_number</th>\n",
              "      <th>arrival_date_day_of_month</th>\n",
              "      <th>stays_in_weekend_nights</th>\n",
              "      <th>stays_in_week_nights</th>\n",
              "      <th>adults</th>\n",
              "      <th>children</th>\n",
              "      <th>babies</th>\n",
              "      <th>is_repeated_guest</th>\n",
              "      <th>previous_cancellations</th>\n",
              "      <th>previous_bookings_not_canceled</th>\n",
              "      <th>booking_changes</th>\n",
              "      <th>days_in_waiting_list</th>\n",
              "      <th>adr</th>\n",
              "      <th>required_car_parking_spaces</th>\n",
              "      <th>total_of_special_requests</th>\n",
              "    </tr>\n",
              "  </thead>\n",
              "  <tbody>\n",
              "    <tr>\n",
              "      <th>count</th>\n",
              "      <td>44638.000000</td>\n",
              "      <td>44638.000000</td>\n",
              "      <td>44638.00000</td>\n",
              "      <td>44638.000000</td>\n",
              "      <td>44638.000000</td>\n",
              "      <td>44638.000000</td>\n",
              "      <td>44638.000000</td>\n",
              "      <td>44638.000000</td>\n",
              "      <td>44638.000000</td>\n",
              "      <td>44638.000000</td>\n",
              "      <td>44638.000000</td>\n",
              "      <td>44638.000000</td>\n",
              "      <td>44638.000000</td>\n",
              "      <td>44638.000000</td>\n",
              "      <td>44638.000000</td>\n",
              "      <td>44638.000000</td>\n",
              "      <td>44638.000000</td>\n",
              "      <td>44638.000000</td>\n",
              "    </tr>\n",
              "    <tr>\n",
              "      <th>mean</th>\n",
              "      <td>0.297594</td>\n",
              "      <td>99.395291</td>\n",
              "      <td>2016.15675</td>\n",
              "      <td>27.095166</td>\n",
              "      <td>15.778328</td>\n",
              "      <td>0.931516</td>\n",
              "      <td>2.507303</td>\n",
              "      <td>1.852883</td>\n",
              "      <td>0.102424</td>\n",
              "      <td>0.008289</td>\n",
              "      <td>0.034052</td>\n",
              "      <td>0.069672</td>\n",
              "      <td>0.140799</td>\n",
              "      <td>0.238026</td>\n",
              "      <td>2.149133</td>\n",
              "      <td>101.624687</td>\n",
              "      <td>0.067723</td>\n",
              "      <td>0.603253</td>\n",
              "    </tr>\n",
              "    <tr>\n",
              "      <th>std</th>\n",
              "      <td>0.457205</td>\n",
              "      <td>104.485734</td>\n",
              "      <td>0.70504</td>\n",
              "      <td>13.654692</td>\n",
              "      <td>8.807604</td>\n",
              "      <td>1.002021</td>\n",
              "      <td>1.928111</td>\n",
              "      <td>0.578898</td>\n",
              "      <td>0.393273</td>\n",
              "      <td>0.091649</td>\n",
              "      <td>0.181364</td>\n",
              "      <td>0.726281</td>\n",
              "      <td>1.540109</td>\n",
              "      <td>0.682989</td>\n",
              "      <td>17.134385</td>\n",
              "      <td>48.429930</td>\n",
              "      <td>0.255077</td>\n",
              "      <td>0.803659</td>\n",
              "    </tr>\n",
              "    <tr>\n",
              "      <th>min</th>\n",
              "      <td>0.000000</td>\n",
              "      <td>0.000000</td>\n",
              "      <td>2015.00000</td>\n",
              "      <td>1.000000</td>\n",
              "      <td>1.000000</td>\n",
              "      <td>0.000000</td>\n",
              "      <td>0.000000</td>\n",
              "      <td>0.000000</td>\n",
              "      <td>0.000000</td>\n",
              "      <td>0.000000</td>\n",
              "      <td>0.000000</td>\n",
              "      <td>0.000000</td>\n",
              "      <td>0.000000</td>\n",
              "      <td>0.000000</td>\n",
              "      <td>0.000000</td>\n",
              "      <td>0.000000</td>\n",
              "      <td>0.000000</td>\n",
              "      <td>0.000000</td>\n",
              "    </tr>\n",
              "    <tr>\n",
              "      <th>25%</th>\n",
              "      <td>0.000000</td>\n",
              "      <td>16.000000</td>\n",
              "      <td>2016.00000</td>\n",
              "      <td>16.000000</td>\n",
              "      <td>8.000000</td>\n",
              "      <td>0.000000</td>\n",
              "      <td>1.000000</td>\n",
              "      <td>2.000000</td>\n",
              "      <td>0.000000</td>\n",
              "      <td>0.000000</td>\n",
              "      <td>0.000000</td>\n",
              "      <td>0.000000</td>\n",
              "      <td>0.000000</td>\n",
              "      <td>0.000000</td>\n",
              "      <td>0.000000</td>\n",
              "      <td>69.380000</td>\n",
              "      <td>0.000000</td>\n",
              "      <td>0.000000</td>\n",
              "    </tr>\n",
              "    <tr>\n",
              "      <th>50%</th>\n",
              "      <td>0.000000</td>\n",
              "      <td>65.000000</td>\n",
              "      <td>2016.00000</td>\n",
              "      <td>27.000000</td>\n",
              "      <td>16.000000</td>\n",
              "      <td>1.000000</td>\n",
              "      <td>2.000000</td>\n",
              "      <td>2.000000</td>\n",
              "      <td>0.000000</td>\n",
              "      <td>0.000000</td>\n",
              "      <td>0.000000</td>\n",
              "      <td>0.000000</td>\n",
              "      <td>0.000000</td>\n",
              "      <td>0.000000</td>\n",
              "      <td>0.000000</td>\n",
              "      <td>94.500000</td>\n",
              "      <td>0.000000</td>\n",
              "      <td>0.000000</td>\n",
              "    </tr>\n",
              "    <tr>\n",
              "      <th>75%</th>\n",
              "      <td>1.000000</td>\n",
              "      <td>154.000000</td>\n",
              "      <td>2017.00000</td>\n",
              "      <td>38.000000</td>\n",
              "      <td>23.000000</td>\n",
              "      <td>2.000000</td>\n",
              "      <td>3.000000</td>\n",
              "      <td>2.000000</td>\n",
              "      <td>0.000000</td>\n",
              "      <td>0.000000</td>\n",
              "      <td>0.000000</td>\n",
              "      <td>0.000000</td>\n",
              "      <td>0.000000</td>\n",
              "      <td>0.000000</td>\n",
              "      <td>0.000000</td>\n",
              "      <td>126.000000</td>\n",
              "      <td>0.000000</td>\n",
              "      <td>1.000000</td>\n",
              "    </tr>\n",
              "    <tr>\n",
              "      <th>max</th>\n",
              "      <td>1.000000</td>\n",
              "      <td>737.000000</td>\n",
              "      <td>2017.00000</td>\n",
              "      <td>53.000000</td>\n",
              "      <td>31.000000</td>\n",
              "      <td>16.000000</td>\n",
              "      <td>40.000000</td>\n",
              "      <td>55.000000</td>\n",
              "      <td>3.000000</td>\n",
              "      <td>2.000000</td>\n",
              "      <td>1.000000</td>\n",
              "      <td>26.000000</td>\n",
              "      <td>72.000000</td>\n",
              "      <td>21.000000</td>\n",
              "      <td>391.000000</td>\n",
              "      <td>510.000000</td>\n",
              "      <td>8.000000</td>\n",
              "      <td>5.000000</td>\n",
              "    </tr>\n",
              "  </tbody>\n",
              "</table>\n",
              "</div>\n",
              "      <button class=\"colab-df-convert\" onclick=\"convertToInteractive('df-ae46b50a-f993-4498-a80a-7176a42a5899')\"\n",
              "              title=\"Convert this dataframe to an interactive table.\"\n",
              "              style=\"display:none;\">\n",
              "        \n",
              "  <svg xmlns=\"http://www.w3.org/2000/svg\" height=\"24px\"viewBox=\"0 0 24 24\"\n",
              "       width=\"24px\">\n",
              "    <path d=\"M0 0h24v24H0V0z\" fill=\"none\"/>\n",
              "    <path d=\"M18.56 5.44l.94 2.06.94-2.06 2.06-.94-2.06-.94-.94-2.06-.94 2.06-2.06.94zm-11 1L8.5 8.5l.94-2.06 2.06-.94-2.06-.94L8.5 2.5l-.94 2.06-2.06.94zm10 10l.94 2.06.94-2.06 2.06-.94-2.06-.94-.94-2.06-.94 2.06-2.06.94z\"/><path d=\"M17.41 7.96l-1.37-1.37c-.4-.4-.92-.59-1.43-.59-.52 0-1.04.2-1.43.59L10.3 9.45l-7.72 7.72c-.78.78-.78 2.05 0 2.83L4 21.41c.39.39.9.59 1.41.59.51 0 1.02-.2 1.41-.59l7.78-7.78 2.81-2.81c.8-.78.8-2.07 0-2.86zM5.41 20L4 18.59l7.72-7.72 1.47 1.35L5.41 20z\"/>\n",
              "  </svg>\n",
              "      </button>\n",
              "      \n",
              "  <style>\n",
              "    .colab-df-container {\n",
              "      display:flex;\n",
              "      flex-wrap:wrap;\n",
              "      gap: 12px;\n",
              "    }\n",
              "\n",
              "    .colab-df-convert {\n",
              "      background-color: #E8F0FE;\n",
              "      border: none;\n",
              "      border-radius: 50%;\n",
              "      cursor: pointer;\n",
              "      display: none;\n",
              "      fill: #1967D2;\n",
              "      height: 32px;\n",
              "      padding: 0 0 0 0;\n",
              "      width: 32px;\n",
              "    }\n",
              "\n",
              "    .colab-df-convert:hover {\n",
              "      background-color: #E2EBFA;\n",
              "      box-shadow: 0px 1px 2px rgba(60, 64, 67, 0.3), 0px 1px 3px 1px rgba(60, 64, 67, 0.15);\n",
              "      fill: #174EA6;\n",
              "    }\n",
              "\n",
              "    [theme=dark] .colab-df-convert {\n",
              "      background-color: #3B4455;\n",
              "      fill: #D2E3FC;\n",
              "    }\n",
              "\n",
              "    [theme=dark] .colab-df-convert:hover {\n",
              "      background-color: #434B5C;\n",
              "      box-shadow: 0px 1px 3px 1px rgba(0, 0, 0, 0.15);\n",
              "      filter: drop-shadow(0px 1px 2px rgba(0, 0, 0, 0.3));\n",
              "      fill: #FFFFFF;\n",
              "    }\n",
              "  </style>\n",
              "\n",
              "      <script>\n",
              "        const buttonEl =\n",
              "          document.querySelector('#df-ae46b50a-f993-4498-a80a-7176a42a5899 button.colab-df-convert');\n",
              "        buttonEl.style.display =\n",
              "          google.colab.kernel.accessAllowed ? 'block' : 'none';\n",
              "\n",
              "        async function convertToInteractive(key) {\n",
              "          const element = document.querySelector('#df-ae46b50a-f993-4498-a80a-7176a42a5899');\n",
              "          const dataTable =\n",
              "            await google.colab.kernel.invokeFunction('convertToInteractive',\n",
              "                                                     [key], {});\n",
              "          if (!dataTable) return;\n",
              "\n",
              "          const docLinkHtml = 'Like what you see? Visit the ' +\n",
              "            '<a target=\"_blank\" href=https://colab.research.google.com/notebooks/data_table.ipynb>data table notebook</a>'\n",
              "            + ' to learn more about interactive tables.';\n",
              "          element.innerHTML = '';\n",
              "          dataTable['output_type'] = 'display_data';\n",
              "          await google.colab.output.renderOutput(dataTable, element);\n",
              "          const docLink = document.createElement('div');\n",
              "          docLink.innerHTML = docLinkHtml;\n",
              "          element.appendChild(docLink);\n",
              "        }\n",
              "      </script>\n",
              "    </div>\n",
              "  </div>\n",
              "  "
            ]
          },
          "metadata": {},
          "execution_count": 15
        }
      ]
    },
    {
      "cell_type": "code",
      "source": [
        "plt.bar(train['is_canceled'].unique(), train['is_canceled'].value_counts(), tick_label = ['Не отменили', 'Отменили'], color=['green', 'purple'])\n",
        "plt.title('Распределение таргетов')\n",
        "plt.show()"
      ],
      "metadata": {
        "colab": {
          "base_uri": "https://localhost:8080/",
          "height": 281
        },
        "id": "GUMz5coQwtZ-",
        "outputId": "54f83453-ab6a-4b24-c1a1-eb7dc69601a4"
      },
      "execution_count": 16,
      "outputs": [
        {
          "output_type": "display_data",
          "data": {
            "text/plain": [
              "<Figure size 432x288 with 1 Axes>"
            ],
            "image/png": "[encoded data removed]"
          },
          "metadata": {
            "needs_background": "light"
          }
        }
      ]
    },
    {
      "cell_type": "markdown",
      "source": [
        "## Категоризируем данные"
      ],
      "metadata": {
        "id": "0Kkjp23GfoXe"
      }
    },
    {
      "cell_type": "code",
      "source": [
        "object_type_columns = train.loc[:, train.dtypes == object].columns\n",
        "object_type_columns"
      ],
      "metadata": {
        "colab": {
          "base_uri": "https://localhost:8080/"
        },
        "id": "FLhk0FgAGfeb",
        "outputId": "5c29b83c-7b1e-4f15-ec2a-9a4581be0df4"
      },
      "execution_count": 17,
      "outputs": [
        {
          "output_type": "execute_result",
          "data": {
            "text/plain": [
              "Index(['hotel', 'arrival_date_month', 'meal', 'country', 'market_segment',\n",
              "       'distribution_channel', 'reserved_room_type', 'assigned_room_type',\n",
              "       'deposit_type', 'customer_type', 'reservation_status_date'],\n",
              "      dtype='object')"
            ]
          },
          "metadata": {},
          "execution_count": 17
        }
      ]
    },
    {
      "cell_type": "code",
      "source": [
        "categorical_columns = ['hotel', 'arrival_date_month', 'meal', 'market_segment', 'deposit_type', 'customer_type']"
      ],
      "metadata": {
        "id": "G6Rh5TcDJxas"
      },
      "execution_count": 18,
      "outputs": []
    },
    {
      "cell_type": "code",
      "source": [
        "from sklearn import preprocessing"
      ],
      "metadata": {
        "id": "CAC0xIP-I3na"
      },
      "execution_count": 19,
      "outputs": []
    },
    {
      "cell_type": "code",
      "source": [
        "for column in categorical_columns:\n",
        "  le = preprocessing.LabelEncoder()\n",
        "  train[column] = le.fit_transform(train[column])"
      ],
      "metadata": {
        "id": "mwhvZqLRF7Pk"
      },
      "execution_count": 20,
      "outputs": []
    },
    {
      "cell_type": "code",
      "source": [
        "train = train.drop(train.loc[:, train.dtypes == object].columns, axis=1)"
      ],
      "metadata": {
        "id": "JclaRvJJS0DY"
      },
      "execution_count": 22,
      "outputs": []
    },
    {
      "cell_type": "code",
      "source": [
        "print(f'Train set shape : {train.shape}')\n",
        "train.info()"
      ],
      "metadata": {
        "colab": {
          "base_uri": "https://localhost:8080/"
        },
        "id": "ksDWOJ30S7JD",
        "outputId": "ee317d3f-7a3b-4a38-bae1-39ba97b82a92"
      },
      "execution_count": 23,
      "outputs": [
        {
          "output_type": "stream",
          "name": "stdout",
          "text": [
            "Train set shape : (44638, 24)\n",
            "<class 'pandas.core.frame.DataFrame'>\n",
            "RangeIndex: 44638 entries, 0 to 44637\n",
            "Data columns (total 24 columns):\n",
            " #   Column                          Non-Null Count  Dtype  \n",
            "---  ------                          --------------  -----  \n",
            " 0   hotel                           44638 non-null  int64  \n",
            " 1   is_canceled                     44638 non-null  int64  \n",
            " 2   lead_time                       44638 non-null  int64  \n",
            " 3   arrival_date_year               44638 non-null  int64  \n",
            " 4   arrival_date_month              44638 non-null  int64  \n",
            " 5   arrival_date_week_number        44638 non-null  int64  \n",
            " 6   arrival_date_day_of_month       44638 non-null  int64  \n",
            " 7   stays_in_weekend_nights         44638 non-null  int64  \n",
            " 8   stays_in_week_nights            44638 non-null  int64  \n",
            " 9   adults                          44638 non-null  int64  \n",
            " 10  children                        44638 non-null  float64\n",
            " 11  babies                          44638 non-null  int64  \n",
            " 12  meal                            44638 non-null  int64  \n",
            " 13  market_segment                  44638 non-null  int64  \n",
            " 14  is_repeated_guest               44638 non-null  int64  \n",
            " 15  previous_cancellations          44638 non-null  int64  \n",
            " 16  previous_bookings_not_canceled  44638 non-null  int64  \n",
            " 17  booking_changes                 44638 non-null  int64  \n",
            " 18  deposit_type                    44638 non-null  int64  \n",
            " 19  days_in_waiting_list            44638 non-null  int64  \n",
            " 20  customer_type                   44638 non-null  int64  \n",
            " 21  adr                             44638 non-null  float64\n",
            " 22  required_car_parking_spaces     44638 non-null  int64  \n",
            " 23  total_of_special_requests       44638 non-null  int64  \n",
            "dtypes: float64(2), int64(22)\n",
            "memory usage: 8.2 MB\n"
          ]
        }
      ]
    },
    {
      "cell_type": "markdown",
      "source": [
        "## Разделим на train, test"
      ],
      "metadata": {
        "id": "L6LtLoWYf0Vn"
      }
    },
    {
      "cell_type": "code",
      "source": [
        "from sklearn.model_selection import train_test_split"
      ],
      "metadata": {
        "id": "e7zj-NH8Vxxs"
      },
      "execution_count": 24,
      "outputs": []
    },
    {
      "cell_type": "code",
      "source": [
        "def split_dataset(dataset):\n",
        "  features_train, features_test, targets_train, targets_test = train_test_split(dataset.drop(['is_canceled'], axis=1), dataset['is_canceled'], test_size=0.2, random_state=5)\n",
        "  return features_train, targets_train, features_test, targets_test"
      ],
      "metadata": {
        "id": "y4kZg5JPTBT8"
      },
      "execution_count": 25,
      "outputs": []
    },
    {
      "cell_type": "markdown",
      "source": [
        "# Рассмотрим подходы"
      ],
      "metadata": {
        "id": "VvhZ4jHyFVwv"
      }
    },
    {
      "cell_type": "code",
      "source": [
        "from sklearn.metrics import accuracy_score"
      ],
      "metadata": {
        "id": "vLT48B4QFmpq"
      },
      "execution_count": 26,
      "outputs": []
    },
    {
      "cell_type": "code",
      "source": [
        "def analyze_model(model, dataset):\n",
        "  x_train, y_train, x_test, y_test = dataset\n",
        "  \"\"\"Возвращает обученную модель, MSE\"\"\"\n",
        "  model.fit(x_train, y_train)\n",
        "\n",
        "  predictions = model.predict(x_test)\n",
        "  accuracy = accuracy_score(y_test, predictions)\n",
        "  return model, accuracy\n",
        "\n",
        "def get_result(model, accuracy, kaggle_features, title):\n",
        "  \"\"\"Скачивает csv с predictions\"\"\"\n",
        "  predictions = model.predict(kaggle_features)\n",
        "  result = pd.DataFrame(predictions, columns=['is_canceled']).reset_index()\n",
        "  result.to_csv(f\"({round(accuracy, 3)}) {title}.csv\", index=False)\n",
        "  files.download(f\"({round(accuracy, 3)}) {title}.csv\")"
      ],
      "metadata": {
        "id": "Z7sgVmu6FVVK"
      },
      "execution_count": 33,
      "outputs": []
    },
    {
      "cell_type": "markdown",
      "source": [
        "## Логистическая регрессия"
      ],
      "metadata": {
        "id": "sY3TaUcnWbIj"
      }
    },
    {
      "cell_type": "code",
      "source": [
        "from sklearn.linear_model import LogisticRegression\n",
        "LogisticRegression = LogisticRegression(penalty='elasticnet', l1_ratio=1, solver='saga', max_iter=5000)\n",
        "model_LogisticRegression, accuracy_LogisticRegression = analyze_model(LogisticRegression, split_dataset(train))\n",
        "print(f'LogisticRegression accuracy : {accuracy_LogisticRegression}')"
      ],
      "metadata": {
        "colab": {
          "base_uri": "https://localhost:8080/"
        },
        "id": "ESCD0pNaXybe",
        "outputId": "c51a21a6-c317-4869-9ce0-fbf2734190d6"
      },
      "execution_count": null,
      "outputs": [
        {
          "output_type": "stream",
          "name": "stdout",
          "text": [
            "LogisticRegression accuracy : 0.7823700716845878\n"
          ]
        },
        {
          "output_type": "stream",
          "name": "stderr",
          "text": [
            "/usr/local/lib/python3.7/dist-packages/sklearn/linear_model/_sag.py:354: ConvergenceWarning: The max_iter was reached which means the coef_ did not converge\n",
            "  ConvergenceWarning,\n"
          ]
        }
      ]
    },
    {
      "cell_type": "code",
      "source": [
        "#get_result(model_LogisticRegression, accuracy_LogisticRegression, kaggletest, 'LogisticRegression')"
      ],
      "metadata": {
        "colab": {
          "base_uri": "https://localhost:8080/",
          "height": 17
        },
        "id": "lKooKGT8aUsy",
        "outputId": "79cc192f-c810-41a2-fc07-39df95819e82"
      },
      "execution_count": null,
      "outputs": [
        {
          "output_type": "display_data",
          "data": {
            "text/plain": [
              "<IPython.core.display.Javascript object>"
            ],
            "application/javascript": [
              "\n",
              "    async function download(id, filename, size) {\n",
              "      if (!google.colab.kernel.accessAllowed) {\n",
              "        return;\n",
              "      }\n",
              "      const div = document.createElement('div');\n",
              "      const label = document.createElement('label');\n",
              "      label.textContent = `Downloading \"${filename}\": `;\n",
              "      div.appendChild(label);\n",
              "      const progress = document.createElement('progress');\n",
              "      progress.max = size;\n",
              "      div.appendChild(progress);\n",
              "      document.body.appendChild(div);\n",
              "\n",
              "      const buffers = [];\n",
              "      let downloaded = 0;\n",
              "\n",
              "      const channel = await google.colab.kernel.comms.open(id);\n",
              "      // Send a message to notify the kernel that we're ready.\n",
              "      channel.send({})\n",
              "\n",
              "      for await (const message of channel.messages) {\n",
              "        // Send a message to notify the kernel that we're ready.\n",
              "        channel.send({})\n",
              "        if (message.buffers) {\n",
              "          for (const buffer of message.buffers) {\n",
              "            buffers.push(buffer);\n",
              "            downloaded += buffer.byteLength;\n",
              "            progress.value = downloaded;\n",
              "          }\n",
              "        }\n",
              "      }\n",
              "      const blob = new Blob(buffers, {type: 'application/binary'});\n",
              "      const a = document.createElement('a');\n",
              "      a.href = window.URL.createObjectURL(blob);\n",
              "      a.download = filename;\n",
              "      div.appendChild(a);\n",
              "      a.click();\n",
              "      div.remove();\n",
              "    }\n",
              "  "
            ]
          },
          "metadata": {}
        },
        {
          "output_type": "display_data",
          "data": {
            "text/plain": [
              "<IPython.core.display.Javascript object>"
            ],
            "application/javascript": [
              "download(\"download_dddb7eeb-97ef-4ca4-9d0e-fc9aa27d0a82\", \"(0.817) LogisticRegression.csv\", 177108)"
            ]
          },
          "metadata": {}
        }
      ]
    },
    {
      "cell_type": "markdown",
      "source": [
        "## Испытаем интуицию"
      ],
      "metadata": {
        "id": "EBy6dgpqdseC"
      }
    },
    {
      "cell_type": "code",
      "source": [
        "supposed_features = ['deposit_type','is_repeated_guest',\\\n",
        "                     'previous_bookings_not_canceled', 'previous_cancellations']"
      ],
      "metadata": {
        "id": "caOcEI19pjHc"
      },
      "execution_count": null,
      "outputs": []
    },
    {
      "cell_type": "code",
      "source": [
        "heuristic_kaggletest = kaggletest[supposed_features]"
      ],
      "metadata": {
        "id": "uNllJ6mU4PX_"
      },
      "execution_count": null,
      "outputs": []
    },
    {
      "cell_type": "code",
      "source": [
        "supposed_features.append('is_canceled')\n",
        "heuristic_train = train[supposed_features]"
      ],
      "metadata": {
        "id": "8qUFQRtJd3Wa"
      },
      "execution_count": null,
      "outputs": []
    },
    {
      "cell_type": "code",
      "source": [
        "from sklearn.linear_model import LogisticRegression\n",
        "LogisticRegression = LogisticRegression(max_iter=10000)\n",
        "model_LogisticRegression, accuracy_LogisticRegression = analyze_model(LogisticRegression, split_dataset(heuristic_train))\n",
        "print(f'LogisticRegression accuracy : {accuracy_LogisticRegression}')"
      ],
      "metadata": {
        "colab": {
          "base_uri": "https://localhost:8080/"
        },
        "id": "aWLrHXmkuaHL",
        "outputId": "252d4785-bdf2-4dac-f013-880c9d293d43"
      },
      "execution_count": null,
      "outputs": [
        {
          "output_type": "stream",
          "name": "stdout",
          "text": [
            "LogisticRegression accuracy : 0.8174283154121864\n"
          ]
        }
      ]
    },
    {
      "cell_type": "code",
      "source": [
        "#get_result(model_LogisticRegression, accuracy_LogisticRegression, heuristic_kaggletest, 'LogisticRegression')"
      ],
      "metadata": {
        "colab": {
          "base_uri": "https://localhost:8080/",
          "height": 17
        },
        "id": "rzUNCbd4pj96",
        "outputId": "12dbdfd6-216c-4d5d-d0b0-044fd8e84bae"
      },
      "execution_count": null,
      "outputs": [
        {
          "output_type": "display_data",
          "data": {
            "text/plain": [
              "<IPython.core.display.Javascript object>"
            ],
            "application/javascript": [
              "\n",
              "    async function download(id, filename, size) {\n",
              "      if (!google.colab.kernel.accessAllowed) {\n",
              "        return;\n",
              "      }\n",
              "      const div = document.createElement('div');\n",
              "      const label = document.createElement('label');\n",
              "      label.textContent = `Downloading \"${filename}\": `;\n",
              "      div.appendChild(label);\n",
              "      const progress = document.createElement('progress');\n",
              "      progress.max = size;\n",
              "      div.appendChild(progress);\n",
              "      document.body.appendChild(div);\n",
              "\n",
              "      const buffers = [];\n",
              "      let downloaded = 0;\n",
              "\n",
              "      const channel = await google.colab.kernel.comms.open(id);\n",
              "      // Send a message to notify the kernel that we're ready.\n",
              "      channel.send({})\n",
              "\n",
              "      for await (const message of channel.messages) {\n",
              "        // Send a message to notify the kernel that we're ready.\n",
              "        channel.send({})\n",
              "        if (message.buffers) {\n",
              "          for (const buffer of message.buffers) {\n",
              "            buffers.push(buffer);\n",
              "            downloaded += buffer.byteLength;\n",
              "            progress.value = downloaded;\n",
              "          }\n",
              "        }\n",
              "      }\n",
              "      const blob = new Blob(buffers, {type: 'application/binary'});\n",
              "      const a = document.createElement('a');\n",
              "      a.href = window.URL.createObjectURL(blob);\n",
              "      a.download = filename;\n",
              "      div.appendChild(a);\n",
              "      a.click();\n",
              "      div.remove();\n",
              "    }\n",
              "  "
            ]
          },
          "metadata": {}
        },
        {
          "output_type": "display_data",
          "data": {
            "text/plain": [
              "<IPython.core.display.Javascript object>"
            ],
            "application/javascript": [
              "download(\"download_7e734a63-4a3c-45b2-a1cc-925a966bc323\", \"(0.817) LogisticRegression.csv\", 177108)"
            ]
          },
          "metadata": {}
        }
      ]
    },
    {
      "cell_type": "markdown",
      "source": [
        "## Нормализуем данные"
      ],
      "metadata": {
        "id": "CKJOMEVwqUtJ"
      }
    },
    {
      "cell_type": "code",
      "source": [
        "def normalize_dataset(dataset):\n",
        "  not_normalized_targets = dataset['is_canceled']\n",
        "  normalized_dataset = pd.DataFrame(preprocessing.MinMaxScaler().fit_transform(dataset.drop(['is_canceled'], axis=1)), columns=dataset.drop(['is_canceled'], axis=1).columns)\n",
        "  normalized_dataset = pd.concat([normalized_dataset, not_normalized_targets], axis=1)\n",
        "  return normalized_dataset"
      ],
      "metadata": {
        "id": "xVpCcJcKpsaG"
      },
      "execution_count": 30,
      "outputs": []
    },
    {
      "cell_type": "code",
      "source": [
        "normalized_train = normalize_dataset(train)"
      ],
      "metadata": {
        "id": "GcukOWcm1byq"
      },
      "execution_count": 31,
      "outputs": []
    },
    {
      "cell_type": "code",
      "source": [
        "from sklearn.linear_model import LogisticRegression\n",
        "LogisticRegression = LogisticRegression(penalty='elasticnet', l1_ratio=1, solver='saga', max_iter=5000)\n",
        "model_LogisticRegression, accuracy_LogisticRegression = analyze_model(LogisticRegression, split_dataset(normalized_train))\n",
        "print(f'LogisticRegression accuracy : {accuracy_LogisticRegression}')"
      ],
      "metadata": {
        "colab": {
          "base_uri": "https://localhost:8080/"
        },
        "id": "n3nempU0q3CH",
        "outputId": "0baf2a2a-c5c7-414c-c0da-dd3a2ea15fb1"
      },
      "execution_count": 34,
      "outputs": [
        {
          "output_type": "stream",
          "name": "stdout",
          "text": [
            "LogisticRegression accuracy : 0.824260752688172\n"
          ]
        }
      ]
    },
    {
      "cell_type": "code",
      "source": [
        "get_result(model_LogisticRegression, accuracy_LogisticRegression, kaggletest, 'LogisticRegression')"
      ],
      "metadata": {
        "colab": {
          "base_uri": "https://localhost:8080/",
          "height": 17
        },
        "id": "SeKO5wDCrEH-",
        "outputId": "da42c54c-9adf-4b95-8d4a-0b10803cd218"
      },
      "execution_count": null,
      "outputs": [
        {
          "output_type": "display_data",
          "data": {
            "text/plain": [
              "<IPython.core.display.Javascript object>"
            ],
            "application/javascript": [
              "\n",
              "    async function download(id, filename, size) {\n",
              "      if (!google.colab.kernel.accessAllowed) {\n",
              "        return;\n",
              "      }\n",
              "      const div = document.createElement('div');\n",
              "      const label = document.createElement('label');\n",
              "      label.textContent = `Downloading \"${filename}\": `;\n",
              "      div.appendChild(label);\n",
              "      const progress = document.createElement('progress');\n",
              "      progress.max = size;\n",
              "      div.appendChild(progress);\n",
              "      document.body.appendChild(div);\n",
              "\n",
              "      const buffers = [];\n",
              "      let downloaded = 0;\n",
              "\n",
              "      const channel = await google.colab.kernel.comms.open(id);\n",
              "      // Send a message to notify the kernel that we're ready.\n",
              "      channel.send({})\n",
              "\n",
              "      for await (const message of channel.messages) {\n",
              "        // Send a message to notify the kernel that we're ready.\n",
              "        channel.send({})\n",
              "        if (message.buffers) {\n",
              "          for (const buffer of message.buffers) {\n",
              "            buffers.push(buffer);\n",
              "            downloaded += buffer.byteLength;\n",
              "            progress.value = downloaded;\n",
              "          }\n",
              "        }\n",
              "      }\n",
              "      const blob = new Blob(buffers, {type: 'application/binary'});\n",
              "      const a = document.createElement('a');\n",
              "      a.href = window.URL.createObjectURL(blob);\n",
              "      a.download = filename;\n",
              "      div.appendChild(a);\n",
              "      a.click();\n",
              "      div.remove();\n",
              "    }\n",
              "  "
            ]
          },
          "metadata": {}
        },
        {
          "output_type": "display_data",
          "data": {
            "text/plain": [
              "<IPython.core.display.Javascript object>"
            ],
            "application/javascript": [
              "download(\"download_e303d19e-61c2-4d37-8107-cb85131ff34a\", \"(0.824) LogisticRegression.csv\", 177108)"
            ]
          },
          "metadata": {}
        }
      ]
    },
    {
      "cell_type": "markdown",
      "source": [
        "## Проанализируем корреляцию"
      ],
      "metadata": {
        "id": "fbB4oHS4uMqc"
      }
    },
    {
      "cell_type": "code",
      "source": [
        "def columns_to_target_correlation(dataset, target_column='is_canceled'):\n",
        "  \"\"\"Возвращает корреляцию dataset c target\"\"\"\n",
        "  correlation = dataset.corr()[target_column]\n",
        "  correlation.columns=['Сoefficient']\n",
        "  sorted_correlation = correlation.drop([target_column], axis=0).dropna().sort_values()\n",
        "  return sorted_correlation"
      ],
      "metadata": {
        "id": "v-KBQ8xp0Di-"
      },
      "execution_count": 27,
      "outputs": []
    },
    {
      "cell_type": "code",
      "source": [
        "def get_correlating_features(correlation, restriction):\n",
        "  profitable_features = correlation[(correlation > restriction) | (correlation < -restriction)].index\n",
        "  return profitable_features"
      ],
      "metadata": {
        "id": "ktkY50LmGPwO"
      },
      "execution_count": 28,
      "outputs": []
    },
    {
      "cell_type": "code",
      "source": [
        "correlation_matrix = normalized_train.corr()"
      ],
      "metadata": {
        "id": "SQi2yGqKuaeG"
      },
      "execution_count": 35,
      "outputs": []
    },
    {
      "cell_type": "code",
      "source": [
        "mask = np.zeros_like(correlation_matrix, dtype=bool)\n",
        "mask[np.triu_indices_from(mask)]= True\n",
        "mask[np.triu_indices_from(mask)]= True"
      ],
      "metadata": {
        "id": "xhZfAu7BucQG"
      },
      "execution_count": 36,
      "outputs": []
    },
    {
      "cell_type": "code",
      "source": [
        "import seaborn as sns\n",
        "f, ax = plt.subplots(figsize=(10, 10))\n",
        "\n",
        "heatmap = sns.heatmap(correlation_matrix,\n",
        "                      mask = mask,\n",
        "                      square = True,\n",
        "                      linewidths = 1,\n",
        "                      cmap = 'coolwarm',\n",
        "                      cbar_kws = {'shrink': .4, 'ticks' : [-1, -.5, 0, 0.5, 1]},\n",
        "                      vmin = -1,\n",
        "                      vmax = 1,\n",
        "                      annot = True,\n",
        "                      annot_kws = {'size': 7})\n",
        "\n",
        "ax.set_xticklabels(correlation_matrix.columns)\n",
        "ax.set_yticklabels(correlation_matrix.columns, rotation = 0)\n",
        "\n",
        "sns.set_style({'xtick.bottom': True}, {'ytick.left': True})"
      ],
      "metadata": {
        "colab": {
          "base_uri": "https://localhost:8080/",
          "height": 648
        },
        "id": "jZ-8JartvPRh",
        "outputId": "44695b67-f67e-4da3-a06b-251394b0f9f6"
      },
      "execution_count": 37,
      "outputs": [
        {
          "output_type": "display_data",
          "data": {
            "text/plain": [
              "<Figure size 720x720 with 2 Axes>"
            ],
            "image/png": "[encoded data removed]"
          },
          "metadata": {
            "needs_background": "light"
          }
        }
      ]
    },
    {
      "cell_type": "code",
      "source": [
        "correlation = columns_to_target_correlation(train)\n",
        "correlation"
      ],
      "metadata": {
        "colab": {
          "base_uri": "https://localhost:8080/"
        },
        "id": "rjpq_oeWvQSY",
        "outputId": "21b0e367-0691-4771-d6d5-02dafe9d79ee"
      },
      "execution_count": 38,
      "outputs": [
        {
          "output_type": "execute_result",
          "data": {
            "text/plain": [
              "total_of_special_requests        -0.214533\n",
              "required_car_parking_spaces      -0.172816\n",
              "booking_changes                  -0.128918\n",
              "hotel                            -0.122751\n",
              "is_repeated_guest                -0.076282\n",
              "customer_type                    -0.065083\n",
              "previous_bookings_not_canceled   -0.045350\n",
              "babies                           -0.027326\n",
              "meal                             -0.010391\n",
              "stays_in_weekend_nights          -0.004805\n",
              "arrival_date_day_of_month        -0.000692\n",
              "arrival_date_month                0.002875\n",
              "children                          0.004660\n",
              "arrival_date_week_number          0.006746\n",
              "stays_in_week_nights              0.022033\n",
              "arrival_date_year                 0.023055\n",
              "adr                               0.052637\n",
              "days_in_waiting_list              0.055115\n",
              "market_segment                    0.055386\n",
              "adults                            0.063338\n",
              "previous_cancellations            0.113781\n",
              "lead_time                         0.281050\n",
              "deposit_type                      0.478948\n",
              "Name: is_canceled, dtype: float64"
            ]
          },
          "metadata": {},
          "execution_count": 38
        }
      ]
    },
    {
      "cell_type": "code",
      "source": [],
      "metadata": {
        "id": "ldYyc2kkxIOV"
      },
      "execution_count": null,
      "outputs": []
    }
  ]
}